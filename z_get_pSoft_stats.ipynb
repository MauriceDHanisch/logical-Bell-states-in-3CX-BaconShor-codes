{
 "cells": [
  {
   "cell_type": "code",
   "execution_count": 1,
   "metadata": {},
   "outputs": [],
   "source": [
    "from result_saver import SaverProvider\n",
    "\n",
    "provider = SaverProvider()"
   ]
  },
  {
   "cell_type": "code",
   "execution_count": 176,
   "metadata": {},
   "outputs": [
    {
     "name": "stdout",
     "output_type": "stream",
     "text": [
      "Found jobs for backend ibm_sherbrooke with closest execution date 2024-03-23 17:49:53.348518+00:00.\n"
     ]
    }
   ],
   "source": [
    "from Scratch import load_calibration_memory\n",
    "\n",
    "DEVICE = 'ibm_sherbrooke'\n",
    "DATE = '2024-03-24'\n",
    "\n",
    "all_memories, gmm_dict, msmt_err_dict = load_calibration_memory(provider, tobecalib_backend=DEVICE, \n",
    "                                                                other_date=DATE, double_msmt=True, post_process=True)\n",
    "\n"
   ]
  },
  {
   "cell_type": "code",
   "execution_count": 177,
   "metadata": {},
   "outputs": [
    {
     "name": "stdout",
     "output_type": "stream",
     "text": [
      "(7920355,)\n"
     ]
    }
   ],
   "source": [
    "import numpy as np\n",
    "\n",
    "pSoftValue_list = []\n",
    "for qubit, data in all_memories.items():\n",
    "    gmm = gmm_dict[qubit]['gmm']\n",
    "    scaler = gmm_dict[qubit]['scaler']\n",
    "\n",
    "    if gmm.means_[0] > gmm.means_[1]:\n",
    "            gmm.means_ = gmm.means_[::-1]\n",
    "            gmm.weights_ = gmm.weights_[::-1]\n",
    "            print(\"Warning: GMM means were inverted to match the expected order of the classes (0, 1)\")\n",
    "    \n",
    "    IQ_data = np.hstack([data['mmr_0'], data['mmr_1'], data['mmr_1_scnd'], data['mmr_0_scnd']])\n",
    "    IQ_data_real = IQ_data.real.reshape(-1, 1)\n",
    "    IQ_data_scaled = scaler.transform(IQ_data_real)\n",
    "\n",
    "    probas = gmm.predict_proba(IQ_data_scaled)\n",
    "\n",
    "    pSoftValues = 1 / (1 + np.max(probas, axis=1) / np.min(probas, axis=1))\n",
    "    pSoftValue_list.append(pSoftValues)\n",
    "\n",
    "pSoft = np.hstack(pSoftValue_list)\n",
    "print(pSoft.shape)\n"
   ]
  },
  {
   "cell_type": "code",
   "execution_count": 178,
   "metadata": {},
   "outputs": [],
   "source": [
    "import pickle\n",
    "\n",
    "with open('pSoft.pkl', 'wb') as f:\n",
    "    pickle.dump(pSoft, f)\n",
    "\n",
    "with open('msmt_err_dict.pkl', 'wb') as f:\n",
    "    pickle.dump(msmt_err_dict, f)"
   ]
  },
  {
   "cell_type": "code",
   "execution_count": 179,
   "metadata": {},
   "outputs": [
    {
     "name": "stdout",
     "output_type": "stream",
     "text": [
      "mean pSoft: 0.005540657327526531\n",
      "std pSoft: 0.03663705102884955\n"
     ]
    },
    {
     "data": {
      "text/plain": [
       "0.005540657327526531"
      ]
     },
     "execution_count": 179,
     "metadata": {},
     "output_type": "execute_result"
    }
   ],
   "source": [
    "print(f\"mean pSoft: {np.mean(pSoft)}\")\n",
    "print(f\"std pSoft: {np.std(pSoft)}\")\n",
    "\n",
    "np.mean(pSoft.flatten())"
   ]
  },
  {
   "cell_type": "markdown",
   "metadata": {},
   "source": [
    "# Sample function"
   ]
  },
  {
   "cell_type": "code",
   "execution_count": 6,
   "metadata": {},
   "outputs": [],
   "source": [
    "import numpy as np\n",
    "\n",
    "def sample_from_histogram(data, bins, n_samples, seed=42):\n",
    "    count, bin_edges = np.histogram(data, bins=bins)\n",
    "    bin_centers = (bin_edges[:-1] + bin_edges[1:]) / 2\n",
    "    pmf = count / np.sum(count)\n",
    "    cdf = np.cumsum(pmf)\n",
    "\n",
    "    np.random.seed(seed)\n",
    "    random_numbers = np.random.rand(n_samples)\n",
    "    sampled_indices = np.searchsorted(cdf, random_numbers)\n",
    "\n",
    "    return bin_centers[sampled_indices]"
   ]
  },
  {
   "cell_type": "code",
   "execution_count": null,
   "metadata": {},
   "outputs": [],
   "source": [
    "# from scipy.interpolate import interp1d\n",
    "\n",
    "# def sample_from_histogram(data, bins, n_samples, seed=42):\n",
    "#     count, bin_edges = np.histogram(data, bins=bins)\n",
    "#     bin_centers = (bin_edges[:-1] + bin_edges[1:]) / 2\n",
    "#     pmf = count / np.sum(count)\n",
    "#     cdf = np.cumsum(pmf)\n",
    "\n",
    "#     np.random.seed(seed)\n",
    "#     random_numbers = np.random.rand(n_samples)\n",
    "#     sampled_indices = np.searchsorted(cdf, random_numbers)\n",
    "\n",
    "#     return bin_centers[sampled_indices]\n",
    "\n",
    "# def generate_means_factors(pSoft, bins, n_samples, factors):\n",
    "#     means = [np.mean(sample_from_histogram_and_adjust(pSoft.flatten(), bins=bins, \n",
    "#                                                       n_samples=n_samples, multiplicative_factor=mult_factor)) \n",
    "#              for mult_factor in factors]\n",
    "#     return means, factors\n",
    "\n",
    "\n",
    "# def find_multiplicative_factor_for_mean(target_mean, means, factors):\n",
    "#     # Ensure that 'means' and 'factors' are sorted by 'means'\n",
    "#     # This step is crucial for interpolation to work correctly\n",
    "#     means, factors = zip(*sorted(zip(means, factors)))\n",
    "    \n",
    "#     # Fit the interpolator\n",
    "#     interp = interp1d(means, factors, kind='linear', fill_value=\"extrapolate\")\n",
    "    \n",
    "#     # Use the interpolator to find the multiplicative factor for the target mean\n",
    "#     target_factor = interp(target_mean)\n",
    "#     return target_factor\n",
    "\n",
    "\n",
    "# def adjust_samples_to_match_mean_variance(samples, og_mean, og_variance, needed_factor, means, factors):\n",
    "#     # Calculate current mean and std deviation of the samples\n",
    "#     samples_mean = np.mean(samples)\n",
    "#     samples_std = np.std(samples)\n",
    "    \n",
    "#     # Calculate target std deviation from the target variance\n",
    "#     og_std = np.sqrt(og_variance)\n",
    "    \n",
    "#     # Adjust samples\n",
    "#     # if multiplicative_factor < 1:\n",
    "#     #     adjusted_samples = ((samples - samples_mean) / samples_std) * target_std * multiplicative_factor + original_mean * multiplicative_factor\n",
    "#     #     # Leave target_std as is \n",
    "#     # if multiplicative_factor > 1:\n",
    "#     #     diff_mean = original_mean * multiplicative_factor - samples_mean\n",
    "#     #     adjusted_samples = samples + diff_mean\n",
    "\n",
    "#     factor = find_multiplicative_factor_for_mean(og_variance*needed_factor, means, factors)\n",
    "\n",
    "#     adjusted_samples = ((samples - samples_mean) / samples_std) * og_std * factor + og_mean * factor\n",
    "\n",
    "#     offset = 1e-4\n",
    "#     mask_below = adjusted_samples < 0\n",
    "#     mask_above = adjusted_samples > 0.5\n",
    "#     random_offsets_below = np.random.uniform(0, offset, mask_below.sum())\n",
    "#     random_offsets_above = np.random.uniform(0, -offset, mask_above.sum())\n",
    "\n",
    "#     adjusted_samples_clipped = adjusted_samples.copy()\n",
    "#     adjusted_samples_clipped[mask_below] = 0 + random_offsets_below\n",
    "#     adjusted_samples_clipped[mask_above] = 0.5 + random_offsets_above\n",
    "    \n",
    "#     return adjusted_samples_clipped\n",
    "\n",
    "\n",
    "# def sample_from_histogram_and_adjust(data, bins, n_samples, needed_factor = 1, seed=42):\n",
    "#     count, bin_edges = np.histogram(data, bins=bins)\n",
    "#     bin_centers = (bin_edges[:-1] + bin_edges[1:]) / 2\n",
    "#     pmf = count / np.sum(count)\n",
    "#     cdf = np.cumsum(pmf)\n",
    "    \n",
    "#     np.random.seed(seed)\n",
    "#     random_numbers = np.random.rand(n_samples)\n",
    "#     sampled_indices = np.searchsorted(cdf, random_numbers)\n",
    "#     sampled_data = bin_centers[sampled_indices]\n",
    "    \n",
    "#     # Adjust the sampled data to match the mean and variance of the original data\n",
    "#     og_mean = np.mean(data) \n",
    "#     og_var = np.var(data) \n",
    "#     to_be_tested_factors = np.linspace(0.001, 20, 500)\n",
    "#     means, factors = generate_means_factors(data, bins, n_samples, to_be_tested_factors)\n",
    "#     adjusted_samples = adjust_samples_to_match_mean_variance(sampled_data, og_mean, og_var, needed_factor, means, factors)\n",
    "    \n",
    "#     return adjusted_samples\n"
   ]
  },
  {
   "cell_type": "code",
   "execution_count": 171,
   "metadata": {},
   "outputs": [],
   "source": [
    "import numpy as np\n",
    "from scipy.interpolate import interp1d\n",
    "from scipy.stats import norm\n",
    "\n",
    "def sample_from_histogram(data, bins, n_samples, seed=42):\n",
    "    np.random.seed(seed)\n",
    "    count, bin_edges = np.histogram(data, bins=bins)\n",
    "    bin_centers = (bin_edges[:-1] + bin_edges[1:]) / 2\n",
    "    pmf = count / np.sum(count)\n",
    "    cdf = np.cumsum(pmf)\n",
    "    random_numbers = np.random.rand(n_samples)\n",
    "    sampled_indices = np.searchsorted(cdf, random_numbers)\n",
    "    return bin_centers[sampled_indices]\n",
    "\n",
    "def generate_means_factors(data, bins, n_samples, factors, seed=42):\n",
    "    means = []\n",
    "    for mult_factor in factors:\n",
    "        sampled_data = sample_from_histogram(data, bins, n_samples, seed=seed)\n",
    "        adjusted_samples = adjust_samples_to_match_mean_variance(\n",
    "            sampled_data, np.mean(data), np.var(data), mult_factor)\n",
    "        means.append(np.mean(adjusted_samples))\n",
    "    return means, factors\n",
    "\n",
    "def adjust_samples_to_match_mean_variance(samples, og_mean, og_variance, factor):\n",
    "    samples_mean = np.mean(samples)\n",
    "    samples_std = np.std(samples)\n",
    "    og_std = np.sqrt(og_variance)\n",
    "    adjusted_samples = ((samples - samples_mean) / samples_std) * og_std * factor + og_mean * factor\n",
    "    adjusted_samples = np.clip(adjusted_samples, 0, 0.5)  # Ensuring values stay within 0 and 0.5\n",
    "    return adjusted_samples\n",
    "\n",
    "def find_multiplicative_factor_for_mean(target_mean, means, factors):\n",
    "    means, factors = zip(*sorted(zip(means, factors)))\n",
    "    interp = interp1d(means, factors, kind='linear', fill_value=\"extrapolate\")\n",
    "    return interp(target_mean)\n",
    "\n",
    "def sample_from_histogram_and_adjust(data, bins, n_samples, needed_factor=1, seed=42):\n",
    "    np.random.seed(seed)\n",
    "    to_be_tested_factors = np.linspace(0.001, 20, 20)\n",
    "    means, factors = generate_means_factors(data, bins, n_samples, to_be_tested_factors, seed=seed)\n",
    "    sampled_data = sample_from_histogram(data, bins, n_samples, seed=seed)\n",
    "    factor = find_multiplicative_factor_for_mean(np.mean(data) * needed_factor, means, factors)\n",
    "    adjusted_samples = adjust_samples_to_match_mean_variance(sampled_data, np.mean(data), np.var(data), factor)\n",
    "    return adjusted_samples\n"
   ]
  },
  {
   "cell_type": "code",
   "execution_count": 175,
   "metadata": {},
   "outputs": [
    {
     "name": "stdout",
     "output_type": "stream",
     "text": [
      "Mean of original data: 0.00848\n",
      "Std of original data: 0.04578\n",
      "Mean of sampled data: 0.00956\n",
      "Std of sampled data: 0.04427\n",
      "Mean of adjusted sampled data: 0.01711\n",
      "Std of adjusted sampled data: 0.07787\n"
     ]
    },
    {
     "data": {
      "image/png": "[encoded data removed]",
      "text/plain": [
       "<Figure size 960x720 with 1 Axes>"
      ]
     },
     "metadata": {},
     "output_type": "display_data"
    }
   ],
   "source": [
    "import matplotlib.pyplot as plt\n",
    "\n",
    "bins = 200\n",
    "n_samples = 3000\n",
    "\n",
    "# Sample from the histogram\n",
    "data = pSoft.flatten()\n",
    "sampled_data = sample_from_histogram(data, bins, n_samples = n_samples, seed=42)\n",
    "sampled_data2 = sample_from_histogram_and_adjust(data, bins, n_samples = n_samples, needed_factor=2, seed=42)\n",
    "# sampled_data2 = sample_with_mean_variance_control(data, bins, n_samples, target_mean=np.mean(data), \n",
    "#                                                   target_std=np.std(data), tolerance=0.3, max_iterations=100_000)\n",
    "\n",
    "print(f\"Mean of original data: {np.mean(data):.5f}\")\n",
    "print(f\"Std of original data: {np.std(data):.5f}\")\n",
    "print(f\"Mean of sampled data: {np.mean(sampled_data):.5f}\")\n",
    "print(f\"Std of sampled data: {np.std(sampled_data):.5f}\")\n",
    "print(f\"Mean of adjusted sampled data: {np.mean(sampled_data2):.5f}\")\n",
    "print(f\"Std of adjusted sampled data: {np.std(sampled_data2):.5f}\")\n",
    "\n",
    "# Plot the original histogram and the sampled data\n",
    "plt.figure(dpi=150)\n",
    "plt.hist(data, bins=bins, density=True, alpha=0.6, label='Original Data')\n",
    "plt.hist(sampled_data, bins=bins, density=True, alpha=0.6, label='Sampled Data', edgecolor='black')\n",
    "plt.hist(sampled_data2, bins=bins, density=True, alpha=0.6, label='Adjusted Sampled Data', edgecolor='black')\n",
    "plt.yscale('log')\n",
    "plt.xlabel('Value')\n",
    "plt.ylabel('Density')\n",
    "plt.legend()\n",
    "plt.show()"
   ]
  },
  {
   "cell_type": "code",
   "execution_count": 62,
   "metadata": {},
   "outputs": [
    {
     "data": {
      "text/plain": [
       "0.0016"
      ]
     },
     "execution_count": 62,
     "metadata": {},
     "output_type": "execute_result"
    }
   ],
   "source": [
    "0.04 **2"
   ]
  },
  {
   "cell_type": "markdown",
   "metadata": {},
   "source": [
    "# Distribution sampling"
   ]
  },
  {
   "cell_type": "code",
   "execution_count": 147,
   "metadata": {},
   "outputs": [
    {
     "name": "stdout",
     "output_type": "stream",
     "text": [
      "Sample Mean: 0.116, Target Mean: 0.02\n",
      "Sample Variance: 0.021, Target Variance: 0.05\n",
      "Min: 0.0, Max: 0.5\n"
     ]
    }
   ],
   "source": [
    "import numpy as np\n",
    "from scipy.stats import beta\n",
    "\n",
    "\n",
    "def generate_skewed_samples(n, target_mean, target_variance, a, b):\n",
    "    # Generate samples from a skewed Beta distribution\n",
    "    samples_beta = beta.rvs(a, b, size=n)\n",
    "    \n",
    "    # Scale samples to the [0, 0.5] interval directly\n",
    "    scaled_samples = samples_beta * 0.5\n",
    "\n",
    "    # Attempt to match the target mean and variance through scaling\n",
    "    # Note: Direct scaling might not perfectly achieve the target mean and variance due to the fixed interval\n",
    "    scale = np.sqrt(target_variance / np.var(scaled_samples))\n",
    "    shift = (target_mean - np.mean(scaled_samples)) * scale\n",
    "    \n",
    "    # Adjusted samples might need re-scaling to fit within the [0, 0.5] interval\n",
    "    # This step is crucial as the previous scaling could have shifted values outside the desired range\n",
    "    adjusted_samples = np.clip(scaled_samples * scale + shift, 0, 0.5)\n",
    "\n",
    "    return adjusted_samples\n",
    "\n",
    "n = 1000\n",
    "og_mean = 0.02\n",
    "og_var = 0.05\n",
    "# Adjust alpha (a) and beta (b) for desired skewness; these are initial estimates\n",
    "a, b = 3, 3 # Example values; adjust as needed for skewness\n",
    "\n",
    "samples = generate_skewed_samples(n, og_mean, og_var, a, b)\n",
    "\n",
    "print(f\"Sample Mean: {np.mean(samples):.3f}, Target Mean: {og_mean}\")\n",
    "print(f\"Sample Variance: {np.var(samples):.3f}, Target Variance: {og_var}\")\n",
    "\n",
    "print(f\"Min: {np.min(samples)}, Max: {np.max(samples)}\")"
   ]
  },
  {
   "cell_type": "code",
   "execution_count": 148,
   "metadata": {},
   "outputs": [
    {
     "data": {
      "image/png": "[encoded data removed]",
      "text/plain": [
       "<Figure size 640x480 with 1 Axes>"
      ]
     },
     "metadata": {},
     "output_type": "display_data"
    }
   ],
   "source": [
    "plt.hist(samples, bins=50)\n",
    "plt.show()"
   ]
  },
  {
   "cell_type": "code",
   "execution_count": 110,
   "metadata": {},
   "outputs": [
    {
     "name": "stdout",
     "output_type": "stream",
     "text": [
      "Sample Mean: 0.16382410588155263, Target Mean: 0.008\n",
      "Sample Variance: 0.0136656289970392, Target Variance: 0.045\n",
      "Min: 1.0431969282291564e-05, Max: 0.4998845440191902\n"
     ]
    }
   ],
   "source": [
    "import numpy as np\n",
    "\n",
    "def generate_samples(n, target_mean, target_variance, interval=(0, 0.5)):\n",
    "    # Adjust these parameters as needed to fit the desired distribution characteristics\n",
    "    adjusted_mean = target_mean\n",
    "    adjusted_std = np.sqrt(target_variance)\n",
    "    \n",
    "    # Initial sample generation\n",
    "    samples = np.random.normal(adjusted_mean, adjusted_std, size=n * 10)\n",
    "    \n",
    "    # Rejection sampling: Keep samples within the desired interval\n",
    "    samples = samples[(samples >= interval[0]) & (samples <= interval[1])]\n",
    "    \n",
    "    # If not enough samples after filtering, this loop retries until enough are collected\n",
    "    while len(samples) < n:\n",
    "        extra_samples = np.random.normal(adjusted_mean, adjusted_std, size=n * 10)\n",
    "        extra_samples = extra_samples[(extra_samples >= interval[0]) & (extra_samples <= interval[1])]\n",
    "        samples = np.concatenate([samples, extra_samples])\n",
    "    \n",
    "    # Adjusting the sample size to n\n",
    "    samples = samples[:n]\n",
    "    \n",
    "    # Placeholder for possible adjustment methods to more closely match the target mean and variance\n",
    "    \n",
    "    return samples\n",
    "\n",
    "n = 2000\n",
    "og_mean = 0.008  # Example mean\n",
    "og_var = 0.045  # Example variance\n",
    "samples = generate_samples(n, og_mean, og_var)\n",
    "\n",
    "print(f\"Sample Mean: {np.mean(samples)}, Target Mean: {og_mean}\")\n",
    "print(f\"Sample Variance: {np.var(samples)}, Target Variance: {og_var}\")\n",
    "print(f\"Min: {np.min(samples)}, Max: {np.max(samples)}\")\n"
   ]
  }
 ],
 "metadata": {
  "kernelspec": {
   "display_name": "Soft-Info-fMUpUe5a",
   "language": "python",
   "name": "python3"
  },
  "language_info": {
   "codemirror_mode": {
    "name": "ipython",
    "version": 3
   },
   "file_extension": ".py",
   "mimetype": "text/x-python",
   "name": "python",
   "nbconvert_exporter": "python",
   "pygments_lexer": "ipython3",
   "version": "3.11.4"
  }
 },
 "nbformat": 4,
 "nbformat_minor": 2
}
